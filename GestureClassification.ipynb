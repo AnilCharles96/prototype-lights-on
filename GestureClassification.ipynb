{
 "cells": [
  {
   "cell_type": "code",
   "execution_count": 2,
   "metadata": {},
   "outputs": [],
   "source": [
    "import numpy as np\n",
    "import os\n",
    "import matplotlib.pyplot as plt\n"
   ]
  },
  {
   "cell_type": "code",
   "execution_count": 3,
   "metadata": {},
   "outputs": [
    {
     "name": "stdout",
     "output_type": "stream",
     "text": [
      "C:\\Users\\Anil\\desktop\n"
     ]
    }
   ],
   "source": [
    "cd desktop\n"
   ]
  },
  {
   "cell_type": "code",
   "execution_count": 12,
   "metadata": {},
   "outputs": [],
   "source": [
    "dir = r\"C:\\Users\\Anil\\Desktop\\leapGestRecog\""
   ]
  },
  {
   "cell_type": "code",
   "execution_count": 13,
   "metadata": {},
   "outputs": [
    {
     "data": {
      "text/plain": [
       "'C:\\\\Users\\\\Anil\\\\Desktop\\\\leapGestRecog'"
      ]
     },
     "execution_count": 13,
     "metadata": {},
     "output_type": "execute_result"
    }
   ],
   "source": [
    "dir"
   ]
  },
  {
   "cell_type": "code",
   "execution_count": 17,
   "metadata": {},
   "outputs": [
    {
     "name": "stdout",
     "output_type": "stream",
     "text": [
      "01_palm\n",
      "03_fist\n",
      "01_palm\n",
      "03_fist\n",
      "01_palm\n",
      "03_fist\n",
      "01_palm\n",
      "03_fist\n",
      "01_palm\n",
      "03_fist\n",
      "01_palm\n",
      "03_fist\n",
      "01_palm\n",
      "03_fist\n",
      "01_palm\n",
      "03_fist\n",
      "01_palm\n",
      "03_fist\n",
      "01_palm\n",
      "03_fist\n"
     ]
    }
   ],
   "source": [
    "for folder in os.listdir(dir):\n",
    "    for subfolder in os.listdir(dir + \"\\\\\" + folder):\n",
    "        if \"01_palm\" in subfolder or \"03_fist\"in subfolder:\n",
    "            print(subfolder)\n"
   ]
  },
  {
   "cell_type": "code",
   "execution_count": null,
   "metadata": {},
   "outputs": [],
   "source": []
  }
 ],
 "metadata": {
  "kernelspec": {
   "display_name": "Python 3",
   "language": "python",
   "name": "python3"
  },
  "language_info": {
   "codemirror_mode": {
    "name": "ipython",
    "version": 3
   },
   "file_extension": ".py",
   "mimetype": "text/x-python",
   "name": "python",
   "nbconvert_exporter": "python",
   "pygments_lexer": "ipython3",
   "version": "3.7.6"
  }
 },
 "nbformat": 4,
 "nbformat_minor": 4
}
