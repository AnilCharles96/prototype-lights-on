{
 "cells": [
  {
   "cell_type": "markdown",
   "metadata": {},
   "source": [
    "<h1>libraries</h1>\n"
   ]
  },
  {
   "cell_type": "code",
   "execution_count": 1,
   "metadata": {},
   "outputs": [
    {
     "name": "stderr",
     "output_type": "stream",
     "text": [
      "Using TensorFlow backend.\n"
     ]
    }
   ],
   "source": [
    "import os \n",
    "from PIL import Image\n",
    "import numpy as np\n",
    "import cv2\n",
    "import sys\n",
    "import matplotlib.pyplot as plt\n",
    "%matplotlib inline\n",
    "from sklearn.model_selection import train_test_split\n",
    "from keras.utils import to_categorical\n",
    "from keras.models import Sequential, load_model\n",
    "from keras.layers import Conv2D, MaxPool2D, Flatten, Dense"
   ]
  },
  {
   "cell_type": "markdown",
   "metadata": {},
   "source": [
    "<h1>mapping hand gestures with numerical values</h1>"
   ]
  },
  {
   "cell_type": "code",
   "execution_count": 2,
   "metadata": {},
   "outputs": [],
   "source": [
    "def lookup_table():\n",
    "    \n",
    "   dict =  {'01_palm': 0,\n",
    "            '02_l': 1,\n",
    "            '03_fist': 2,\n",
    "            '04_fist_moved': 3,\n",
    "            '05_thumb': 4,\n",
    "            '06_index': 5,\n",
    "            '07_ok': 6,\n",
    "            '08_palm_moved': 7,\n",
    "            '09_c': 8,\n",
    "            '10_down': 9}\n",
    "   \n",
    "   return dict\n"
   ]
  },
  {
   "cell_type": "markdown",
   "metadata": {},
   "source": [
    "<h1>Directory selection based on OS</h1>"
   ]
  },
  {
   "cell_type": "code",
   "execution_count": 3,
   "metadata": {},
   "outputs": [],
   "source": [
    "if os.name == \"nt\":\n",
    "    dir = os.getcwd() + \"\\\\downloads\\\\leapGestRecog\"\n",
    "else:\n",
    "    dir = os.getcwd() + \"/downloads/leapGestRecog\""
   ]
  },
  {
   "cell_type": "markdown",
   "metadata": {},
   "source": [
    "<h1>extracting images into x_data and its corresponding mapped numerical data into y_data</h1>"
   ]
  },
  {
   "cell_type": "code",
   "execution_count": 4,
   "metadata": {},
   "outputs": [],
   "source": [
    "x_data = []\n",
    "y_data = []\n",
    "for folder in os.listdir(dir):   \n",
    "    if not folder.startswith(\".\"):    \n",
    "        for subfolder in os.listdir(dir + \"/\" + folder):\n",
    "            if not subfolder.startswith(\".\"):\n",
    "                for gesture in os.listdir(dir + \"/\" + folder + \"/\" + subfolder):\n",
    "                    img = Image.open(dir + \"/\" + folder + \"/\" + subfolder + \"/\" + gesture)\n",
    "                    img = img.resize((320, 120))\n",
    "                    _,thresh = cv2.threshold(np.array(img),127,255,cv2.ADAPTIVE_THRESH_MEAN_C)\n",
    "                    x_data.append(thresh)\n",
    "                    y_data.append(lookup_table()[subfolder])"
   ]
  },
  {
   "cell_type": "code",
   "execution_count": 5,
   "metadata": {},
   "outputs": [],
   "source": [
    "reverse_dict = { lookup_table()[k]:k for k in lookup_table()}\n"
   ]
  },
  {
   "cell_type": "code",
   "execution_count": 6,
   "metadata": {},
   "outputs": [
    {
     "data": {
      "text/plain": [
       "113"
      ]
     },
     "execution_count": 6,
     "metadata": {},
     "output_type": "execute_result"
    }
   ],
   "source": [
    "ret,thresh1 = cv2.threshold(x_data[0],127,255,cv2.ADAPTIVE_THRESH_MEAN_C)\n",
    "cv2.imshow(\"img\",thresh1)\n",
    "cv2.waitKey(0)"
   ]
  },
  {
   "cell_type": "code",
   "execution_count": 7,
   "metadata": {},
   "outputs": [
    {
     "name": "stdout",
     "output_type": "stream",
     "text": [
      "{0: '01_palm', 1: '02_l', 2: '03_fist', 3: '04_fist_moved', 4: '05_thumb', 5: '06_index', 6: '07_ok', 7: '08_palm_moved', 8: '09_c', 9: '10_down'}\n"
     ]
    },
    {
     "data": {
      "text/plain": [
       "113"
      ]
     },
     "execution_count": 7,
     "metadata": {},
     "output_type": "execute_result"
    }
   ],
   "source": [
    "print(reverse_dict)\n",
    "cv2.imshow(\"i\",x_data[0])\n",
    "cv2.waitKey(0)"
   ]
  },
  {
   "cell_type": "markdown",
   "metadata": {},
   "source": [
    "<h1>plot for 10 different hand gesture</h1>"
   ]
  },
  {
   "cell_type": "code",
   "execution_count": 8,
   "metadata": {},
   "outputs": [
    {
     "data": {
      "image/png": "[encoded data removed]",
      "text/plain": [
       "<Figure size 1440x360 with 10 Axes>"
      ]
     },
     "metadata": {
      "needs_background": "light"
     },
     "output_type": "display_data"
    }
   ],
   "source": [
    "fig = plt.figure(figsize=(20,5))\n",
    "for i in range(0,10):\n",
    "    fig.add_subplot(2,5,i+1)\n",
    "    plt.imshow(x_data[i*200], cmap=\"gray\")\n",
    "    plt.xlabel(reverse_dict[y_data[i*200]],  fontsize=15)"
   ]
  },
  {
   "cell_type": "markdown",
   "metadata": {},
   "source": [
    "<h1>reshaping the array to 1 indicates b/w channels for keras\n",
    "\n",
    "to_categorical changes y to one hot encoded version</h1>"
   ]
  },
  {
   "cell_type": "code",
   "execution_count": 9,
   "metadata": {},
   "outputs": [],
   "source": [
    "X = np.array(x_data, dtype=\"float32\") / 255\n",
    "y = np.array(y_data)\n",
    "\n",
    "X = X.reshape(X.shape[0],X.shape[1],X.shape[2], 1)\n",
    "y = to_categorical(y)"
   ]
  },
  {
   "cell_type": "markdown",
   "metadata": {},
   "source": [
    "<h1>splitting dataset for training, testing and evaluation</h1>"
   ]
  },
  {
   "cell_type": "code",
   "execution_count": 10,
   "metadata": {},
   "outputs": [],
   "source": [
    "x_train, x_test, y_train, y_test = train_test_split(X, y, test_size = 0.3, random_state = 101) \n",
    "x_val, x_test, y_val, y_test = train_test_split(x_test, y_test, test_size=0.5)"
   ]
  },
  {
   "cell_type": "markdown",
   "metadata": {},
   "source": [
    "<h1>convolution neural networks for training the model</h1>"
   ]
  },
  {
   "cell_type": "code",
   "execution_count": 11,
   "metadata": {},
   "outputs": [],
   "source": [
    "model = Sequential()\n",
    "model.add(Conv2D(32, (2,2), strides=(2,2), activation=\"relu\", input_shape=(120,320,1)))\n",
    "model.add(MaxPool2D((2,2)))\n",
    "model.add(Conv2D(64, (3,3), activation=\"relu\"))\n",
    "model.add(MaxPool2D((2,2)))\n",
    "model.add(Conv2D(128, (3,3), activation=\"relu\"))\n",
    "model.add(MaxPool2D(2,2))\n",
    "model.add(Flatten())\n",
    "model.add(Dense(128, activation=\"relu\"))\n",
    "model.add(Dense(10, activation=\"softmax\"))\n",
    "\n"
   ]
  },
  {
   "cell_type": "code",
   "execution_count": 12,
   "metadata": {},
   "outputs": [
    {
     "name": "stdout",
     "output_type": "stream",
     "text": [
      "Train on 14000 samples, validate on 3000 samples\n",
      "Epoch 1/2\n",
      "14000/14000 [==============================] - 89s 6ms/step - loss: 0.2426 - accuracy: 0.9224 - val_loss: 0.0338 - val_accuracy: 0.9923\n",
      "Epoch 2/2\n",
      "14000/14000 [==============================] - 90s 6ms/step - loss: 0.0110 - accuracy: 0.9972 - val_loss: 0.0133 - val_accuracy: 0.9977\n"
     ]
    },
    {
     "data": {
      "text/plain": [
       "<keras.callbacks.callbacks.History at 0x24189d1e248>"
      ]
     },
     "execution_count": 12,
     "metadata": {},
     "output_type": "execute_result"
    }
   ],
   "source": [
    "model.compile(optimizer=\"Adam\", loss=\"categorical_crossentropy\", metrics=[\"accuracy\"])\n",
    "model.fit(x_train, y_train, validation_data=(x_val, y_val), epochs=2, batch_size=64, verbose=1)"
   ]
  },
  {
   "cell_type": "code",
   "execution_count": 13,
   "metadata": {},
   "outputs": [],
   "source": [
    "model.save('trained.h5')"
   ]
  },
  {
   "cell_type": "code",
   "execution_count": 14,
   "metadata": {},
   "outputs": [],
   "source": [
    "model = load_model(\"trained.h5\")"
   ]
  },
  {
   "cell_type": "code",
   "execution_count": 15,
   "metadata": {},
   "outputs": [
    {
     "name": "stdout",
     "output_type": "stream",
     "text": [
      "3000/3000 [==============================] - 4s 1ms/step\n",
      "accuracy:  99.7 %\n"
     ]
    }
   ],
   "source": [
    "_, acc = model.evaluate(x_test,y_test, verbose = 1)\n",
    "print(\"accuracy: \", round(acc * 100,2), \"%\")"
   ]
  },
  {
   "cell_type": "code",
   "execution_count": null,
   "metadata": {},
   "outputs": [],
   "source": []
  },
  {
   "cell_type": "code",
   "execution_count": null,
   "metadata": {},
   "outputs": [],
   "source": []
  }
 ],
 "metadata": {
  "kernelspec": {
   "display_name": "Python 3",
   "language": "python",
   "name": "python3"
  },
  "language_info": {
   "codemirror_mode": {
    "name": "ipython",
    "version": 3
   },
   "file_extension": ".py",
   "mimetype": "text/x-python",
   "name": "python",
   "nbconvert_exporter": "python",
   "pygments_lexer": "ipython3",
   "version": "3.7.6"
  }
 },
 "nbformat": 4,
 "nbformat_minor": 4
}
